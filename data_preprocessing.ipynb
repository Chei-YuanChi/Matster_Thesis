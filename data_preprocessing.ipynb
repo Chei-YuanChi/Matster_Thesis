{
 "cells": [
  {
   "cell_type": "code",
   "execution_count": 1,
   "id": "2eb973c7",
   "metadata": {},
   "outputs": [],
   "source": [
    "import pandas as pd\n",
    "import numpy as np\n",
    "from sklearn.feature_selection import VarianceThreshold\n",
    "from sklearn.model_selection import train_test_split"
   ]
  },
  {
   "cell_type": "code",
   "execution_count": 2,
   "id": "79d45a02",
   "metadata": {},
   "outputs": [],
   "source": [
    "dir_path = './data/'\n",
    "\n",
    "omics_dir = ['methylation.csv', 'expression.csv', 'cnv.csv', 'mutation.csv']\n",
    "drug_dir = 'drug_response(IC50).csv'\n",
    "data_omics = [pd.read_csv(dir_path + omics_dir[i]).set_index('Unnamed: 0') for i in range(len(omics_dir))]\n",
    "data_drug = pd.read_csv(dir_path + 'drug_response(IC50).csv').set_index('Unnamed: 0')"
   ]
  },
  {
   "cell_type": "markdown",
   "id": "f27cdb07",
   "metadata": {},
   "source": [
    "# Overlapping set of samples"
   ]
  },
  {
   "cell_type": "code",
   "execution_count": 3,
   "id": "32967562",
   "metadata": {},
   "outputs": [
    {
     "name": "stdout",
     "output_type": "stream",
     "text": [
      "(543, 20219)\n",
      "(543, 19160)\n",
      "(543, 21840)\n",
      "(543, 445)\n"
     ]
    },
    {
     "data": {
      "text/plain": [
       "(543, 310)"
      ]
     },
     "execution_count": 3,
     "metadata": {},
     "output_type": "execute_result"
    }
   ],
   "source": [
    "# get smaple list\n",
    "sample_list = [data.index.to_list() for data in data_omics]\n",
    "sample_list.append(data_drug.index.to_list())\n",
    "\n",
    "# # Get sample common to all data & normalize all data in a range (MinMaxscalar)\n",
    "sample_set = set(sample_list[0])\n",
    "for i in range(1, len(sample_list)):\n",
    "    sample_set = sample_set & set(sample_list[i])\n",
    "for i in range(len(data_omics)):\n",
    "    data_omics[i] = data_omics[i].loc[data_omics[i].index.isin(list(sample_set))].sort_index()\n",
    "data_drug = data_drug.loc[data_drug.index.isin(list(sample_set))].sort_index()\n",
    "for i in range(len(data_omics)):\n",
    "    print(data_omics[i].shape)\n",
    "data_drug.shape"
   ]
  },
  {
   "cell_type": "markdown",
   "id": "bf7c52e4",
   "metadata": {},
   "source": [
    "# Filter samples with more than 30% missing values"
   ]
  },
  {
   "cell_type": "code",
   "execution_count": 4,
   "id": "9797892e",
   "metadata": {},
   "outputs": [
    {
     "name": "stdout",
     "output_type": "stream",
     "text": [
      "(543, 19412)\n",
      "(543, 19160)\n",
      "(543, 21840)\n",
      "(543, 445)\n"
     ]
    },
    {
     "data": {
      "text/plain": [
       "(543, 31)"
      ]
     },
     "execution_count": 4,
     "metadata": {},
     "output_type": "execute_result"
    }
   ],
   "source": [
    "def get_fewer_samples(data, threshold):\n",
    "    data_copy = data.copy()\n",
    "    index = []\n",
    "    for i in range(len(data)):\n",
    "        if data.iloc[i].isna().sum() > len(data.iloc[i]) * threshold:\n",
    "            index.append(data.index[i])\n",
    "    data_copy = data_copy.drop(index)\n",
    "    return data_copy\n",
    "\n",
    "def get_fewer_feature(data, threshold):\n",
    "    data_copy = data.copy()\n",
    "    for feature in data.columns:\n",
    "        if data[feature].isna().sum() > len(data[feature]) * threshold:\n",
    "            data_copy = data_copy.drop([feature], axis = 1)\n",
    "    return data_copy\n",
    "\n",
    "threshold = 0.3\n",
    "data_omics = [get_fewer_feature(data_omics[i], threshold) for i in range(len(data_omics))]\n",
    "data_drug = get_fewer_feature(data_drug, threshold)\n",
    "\n",
    "for i in range(len(data_omics)):\n",
    "    print(data_omics[i].shape)\n",
    "data_drug.shape"
   ]
  },
  {
   "cell_type": "markdown",
   "id": "41f5b9b1",
   "metadata": {},
   "source": [
    "# Delete all zero feature"
   ]
  },
  {
   "cell_type": "code",
   "execution_count": 5,
   "id": "05f1412d",
   "metadata": {},
   "outputs": [
    {
     "name": "stdout",
     "output_type": "stream",
     "text": [
      "(543, 19412)\n",
      "(543, 19144)\n",
      "(543, 21840)\n",
      "(543, 223)\n"
     ]
    },
    {
     "data": {
      "text/plain": [
       "(543, 31)"
      ]
     },
     "execution_count": 5,
     "metadata": {},
     "output_type": "execute_result"
    }
   ],
   "source": [
    "def Variance_FS(data, thres):\n",
    "    variance = VarianceThreshold(threshold = thres)\n",
    "    variance.fit(data)\n",
    "    columns = [column for column in data.columns if column not in data.columns[variance.get_support()]]\n",
    "    return data.drop(labels = columns, axis = 1) \n",
    "\n",
    "data_omics = [Variance_FS(data_omics[i], 0) for i in range(len(data_omics))]\n",
    "for i in range(len(data_omics)):\n",
    "    print(data_omics[i].shape)\n",
    "data_drug.shape"
   ]
  },
  {
   "cell_type": "code",
   "execution_count": 6,
   "id": "f0edbf33",
   "metadata": {},
   "outputs": [],
   "source": [
    "data_omics_des = [data_omics[i].describe() for i in range(len(data_omics))]\n",
    "data_drug_des = data_drug.describe()"
   ]
  },
  {
   "cell_type": "markdown",
   "id": "01801517",
   "metadata": {},
   "source": [
    "# Missing values are imputed as mean"
   ]
  },
  {
   "cell_type": "code",
   "execution_count": 7,
   "id": "3fe39a44",
   "metadata": {},
   "outputs": [],
   "source": [
    "data_omics = [data_omics[i].fillna(data_omics[i].mean()) for i in range(len(data_omics))]"
   ]
  },
  {
   "cell_type": "code",
   "execution_count": 8,
   "id": "f09095c4",
   "metadata": {},
   "outputs": [],
   "source": [
    "import os\n",
    "if not os.path.exists(dir_path + 'preprocessing'):\n",
    "    os.makedirs(dir_path + 'preprocessing')\n",
    "data_omics[0].to_csv(dir_path + 'preprocessing/methylation.csv')\n",
    "data_omics[1].to_csv(dir_path + 'preprocessing/expression.csv')\n",
    "data_omics[2].to_csv(dir_path + 'preprocessing/cnv.csv')\n",
    "data_omics[3].to_csv(dir_path + 'preprocessing/mutation.csv')\n",
    "data_drug.to_csv(dir_path + 'preprocessing/IC50(log).csv')"
   ]
  },
  {
   "cell_type": "code",
   "execution_count": null,
   "id": "8143f293",
   "metadata": {},
   "outputs": [],
   "source": []
  }
 ],
 "metadata": {
  "kernelspec": {
   "display_name": "Python 3 (ipykernel)",
   "language": "python",
   "name": "python3"
  },
  "language_info": {
   "codemirror_mode": {
    "name": "ipython",
    "version": 3
   },
   "file_extension": ".py",
   "mimetype": "text/x-python",
   "name": "python",
   "nbconvert_exporter": "python",
   "pygments_lexer": "ipython3",
   "version": "3.8.12"
  }
 },
 "nbformat": 4,
 "nbformat_minor": 5
}
